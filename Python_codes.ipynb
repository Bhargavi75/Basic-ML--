{
  "nbformat": 4,
  "nbformat_minor": 0,
  "metadata": {
    "colab": {
      "name": "Python codes",
      "provenance": [],
      "authorship_tag": "ABX9TyPQcqmgJRXkwrkyg+3gkzym",
      "include_colab_link": true
    },
    "kernelspec": {
      "name": "python3",
      "display_name": "Python 3"
    },
    "language_info": {
      "name": "python"
    }
  },
  "cells": [
    {
      "cell_type": "markdown",
      "metadata": {
        "id": "view-in-github",
        "colab_type": "text"
      },
      "source": [
        "<a href=\"https://colab.research.google.com/github/Bhargavi75/Basic-ML--/blob/main/Python_codes.ipynb\" target=\"_parent\"><img src=\"https://colab.research.google.com/assets/colab-badge.svg\" alt=\"Open In Colab\"/></a>"
      ]
    },
    {
      "cell_type": "code",
      "metadata": {
        "colab": {
          "base_uri": "https://localhost:8080/"
        },
        "id": "D44f5_X-QoIl",
        "outputId": "28bad700-2f0f-4a4b-dcee-8a362623eb48"
      },
      "source": [
        "a= 20\n",
        "b=25\n",
        "c=a+b\n",
        "print(c)"
      ],
      "execution_count": null,
      "outputs": [
        {
          "output_type": "stream",
          "text": [
            "45\n"
          ],
          "name": "stdout"
        }
      ]
    },
    {
      "cell_type": "code",
      "metadata": {
        "colab": {
          "base_uri": "https://localhost:8080/"
        },
        "id": "n_MCpRY5TjVg",
        "outputId": "c55965c8-5ed3-49bb-d842-6118ead26296"
      },
      "source": [
        "#Even Or Odd\n",
        "a=int(input(\"enter a number\")) \n",
        "if a%2==0:\n",
        "   print(\"Even\") \n",
        "else:\n",
        "   print(\"Odd\")"
      ],
      "execution_count": null,
      "outputs": [
        {
          "output_type": "stream",
          "text": [
            "enter a number5\n",
            "Odd\n"
          ],
          "name": "stdout"
        }
      ]
    },
    {
      "cell_type": "code",
      "metadata": {
        "id": "Gez88G5vW_xL"
      },
      "source": [
        ""
      ],
      "execution_count": null,
      "outputs": []
    },
    {
      "cell_type": "markdown",
      "metadata": {
        "id": "ybDlEXpLXApE"
      },
      "source": [
        ""
      ]
    },
    {
      "cell_type": "code",
      "metadata": {
        "colab": {
          "base_uri": "https://localhost:8080/"
        },
        "id": "zgcgtrGEVaDm",
        "outputId": "ee821ad7-71d4-4b14-c546-77c1fc758601"
      },
      "source": [
        " \n",
        " \n",
        "#positive number Or negative number\n",
        "a= int (input (\"enter a number \"))\n",
        "if a>0:\n",
        "   print(\"positive number\") \n",
        "elif a<0:\n",
        "   print(\"negative number\") \n",
        "else:\n",
        "   print(\"zero\")"
      ],
      "execution_count": null,
      "outputs": [
        {
          "output_type": "stream",
          "text": [
            "enter a number 44\n",
            "positive number\n"
          ],
          "name": "stdout"
        }
      ]
    }
  ]
}